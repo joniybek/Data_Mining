{
 "metadata": {
  "name": "Thesis_OneClassSVM with PCA",
  "signature": "sha256:b95471ff6a5f80fd5f9eaf4d8f2fed63db3677be140e3abf90c2f0da5aafd4f1"
 },
 "nbformat": 3,
 "nbformat_minor": 0,
 "worksheets": [
  {
   "cells": [
    {
     "cell_type": "code",
     "collapsed": false,
     "input": "%%time\nfrom pandas.stats.api import ols\nimport pandas as pd\nimport matplotlib.pyplot as plt\n#%matplotlib inline\nimport numpy as np\nfrom unidecode import unidecode\nimport matplotlib.font_manager\nfrom scipy import stats\nfrom sklearn.preprocessing import scale\nimport sklearn.preprocessing as prep\nfrom sklearn import svm\nfrom sklearn.decomposition import PCA\n",
     "language": "python",
     "metadata": {},
     "outputs": [
      {
       "output_type": "stream",
       "stream": "stdout",
       "text": "Wall time: 10.9 s\n"
      }
     ],
     "prompt_number": 1
    },
    {
     "cell_type": "code",
     "collapsed": false,
     "input": "#Here we read file, it can be Excel file, csv, database connection, etc\n%%time\ndf=pd.read_csv('thesis_data.csv',sep=',',encoding='cp775')\ndf[\"Teacher\"] = df[\"Teacher\"].apply(lambda x : unidecode(x))\n                                               \ndf[\"Course code\"] = df[\"Course code\"].apply(lambda x : unidecode(x))",
     "language": "python",
     "metadata": {},
     "outputs": [
      {
       "output_type": "stream",
       "stream": "stdout",
       "text": "Wall time: 610 ms\n"
      }
     ],
     "prompt_number": 2
    },
    {
     "cell_type": "code",
     "collapsed": false,
     "input": "a=df",
     "language": "python",
     "metadata": {},
     "outputs": [],
     "prompt_number": 4
    },
    {
     "cell_type": "code",
     "collapsed": false,
     "input": "\na=a[a['Exclude 1']==0]",
     "language": "python",
     "metadata": {},
     "outputs": [],
     "prompt_number": 4
    },
    {
     "cell_type": "code",
     "collapsed": false,
     "input": "",
     "language": "python",
     "metadata": {},
     "outputs": [],
     "prompt_number": 3
    },
    {
     "cell_type": "code",
     "collapsed": false,
     "input": "df.head()",
     "language": "python",
     "metadata": {},
     "outputs": [
      {
       "html": "<div style=\"max-height:1000px;max-width:1500px;overflow:auto;\">\n<table border=\"1\" class=\"dataframe\">\n  <thead>\n    <tr style=\"text-align: right;\">\n      <th></th>\n      <th>Teacher</th>\n      <th>Other teacher</th>\n      <th>Course code</th>\n      <th>N of students in the course</th>\n      <th>N of surveys filled</th>\n      <th>1 Q</th>\n      <th>2 Q</th>\n      <th>3 Q</th>\n      <th>4 Q</th>\n      <th>5 Q</th>\n      <th>...</th>\n      <th>11 Q</th>\n      <th>Valid</th>\n      <th>Exclude 1</th>\n      <th>Bad Q3</th>\n      <th>Bad Q6</th>\n      <th>Bad Q8</th>\n      <th>Bad Q9</th>\n      <th>Bad average (2.5.6.9.11)</th>\n      <th>Anything bad</th>\n      <th>Decision</th>\n    </tr>\n  </thead>\n  <tbody>\n    <tr>\n      <th>0</th>\n      <td>              dummy</td>\n      <td> NaN</td>\n      <td> QAY484</td>\n      <td>   2</td>\n      <td>  1</td>\n      <td> 5.00</td>\n      <td> 5.00</td>\n      <td> 5.00</td>\n      <td> 5.00</td>\n      <td> 5.00</td>\n      <td>...</td>\n      <td> 5.00</td>\n      <td> 1</td>\n      <td> 1</td>\n      <td> 0</td>\n      <td> 0</td>\n      <td> 0</td>\n      <td> 0</td>\n      <td> 0</td>\n      <td> 0</td>\n      <td> Not considered</td>\n    </tr>\n    <tr>\n      <th>1</th>\n      <td>              dummy</td>\n      <td> NaN</td>\n      <td> AMY716</td>\n      <td>   1</td>\n      <td>  1</td>\n      <td> 5.00</td>\n      <td> 5.00</td>\n      <td> 5.00</td>\n      <td> 5.00</td>\n      <td> 5.00</td>\n      <td>...</td>\n      <td> 5.00</td>\n      <td> 1</td>\n      <td> 0</td>\n      <td> 0</td>\n      <td> 0</td>\n      <td> 0</td>\n      <td> 0</td>\n      <td> 0</td>\n      <td> 0</td>\n      <td> Not considered</td>\n    </tr>\n    <tr>\n      <th>2</th>\n      <td>              dummy</td>\n      <td> NaN</td>\n      <td> DRM700</td>\n      <td>  46</td>\n      <td> 36</td>\n      <td> 4.35</td>\n      <td> 4.24</td>\n      <td> 4.09</td>\n      <td> 4.24</td>\n      <td> 4.44</td>\n      <td>...</td>\n      <td> 4.62</td>\n      <td> 1</td>\n      <td> 1</td>\n      <td> 0</td>\n      <td> 0</td>\n      <td> 0</td>\n      <td> 0</td>\n      <td> 0</td>\n      <td> 0</td>\n      <td> Not considered</td>\n    </tr>\n    <tr>\n      <th>3</th>\n      <td> JPWNAN URLT-JABRWJ</td>\n      <td> NaN</td>\n      <td> KAP325</td>\n      <td>  43</td>\n      <td> 26</td>\n      <td> 4.64</td>\n      <td> 4.60</td>\n      <td> 4.64</td>\n      <td> 4.60</td>\n      <td> 4.40</td>\n      <td>...</td>\n      <td> 4.80</td>\n      <td> 1</td>\n      <td> 1</td>\n      <td> 0</td>\n      <td> 0</td>\n      <td> 0</td>\n      <td> 0</td>\n      <td> 0</td>\n      <td> 0</td>\n      <td> Not considered</td>\n    </tr>\n    <tr>\n      <th>4</th>\n      <td>     JPWNAN AJDRLTJ</td>\n      <td> NaN</td>\n      <td> QOU337</td>\n      <td> 215</td>\n      <td> 97</td>\n      <td> 4.49</td>\n      <td> 4.43</td>\n      <td> 4.52</td>\n      <td> 4.61</td>\n      <td> 4.67</td>\n      <td>...</td>\n      <td> 4.35</td>\n      <td> 1</td>\n      <td> 1</td>\n      <td> 0</td>\n      <td> 0</td>\n      <td> 0</td>\n      <td> 0</td>\n      <td> 0</td>\n      <td> 0</td>\n      <td> Not considered</td>\n    </tr>\n  </tbody>\n</table>\n<p>5 rows \u00d7 25 columns</p>\n</div>",
       "metadata": {},
       "output_type": "pyout",
       "prompt_number": 6,
       "text": "              Teacher Other teacher Course code  N of students in the course  \\\n0               dummy           NaN      QAY484                            2   \n1               dummy           NaN      AMY716                            1   \n2               dummy           NaN      DRM700                           46   \n3  JPWNAN URLT-JABRWJ           NaN      KAP325                           43   \n4      JPWNAN AJDRLTJ           NaN      QOU337                          215   \n\n   N of surveys filled   1 Q   2 Q   3 Q   4 Q   5 Q       ...        11 Q  \\\n0                    1  5.00  5.00  5.00  5.00  5.00       ...        5.00   \n1                    1  5.00  5.00  5.00  5.00  5.00       ...        5.00   \n2                   36  4.35  4.24  4.09  4.24  4.44       ...        4.62   \n3                   26  4.64  4.60  4.64  4.60  4.40       ...        4.80   \n4                   97  4.49  4.43  4.52  4.61  4.67       ...        4.35   \n\n   Valid  Exclude 1  Bad Q3  Bad Q6  Bad Q8  Bad Q9  Bad average (2.5.6.9.11)  \\\n0      1          1       0       0       0       0                         0   \n1      1          0       0       0       0       0                         0   \n2      1          1       0       0       0       0                         0   \n3      1          1       0       0       0       0                         0   \n4      1          1       0       0       0       0                         0   \n\n   Anything bad        Decision  \n0             0  Not considered  \n1             0  Not considered  \n2             0  Not considered  \n3             0  Not considered  \n4             0  Not considered  \n\n[5 rows x 25 columns]"
      }
     ],
     "prompt_number": 6
    },
    {
     "cell_type": "code",
     "collapsed": false,
     "input": "df=df[df['Exclude 1']!=0]",
     "language": "python",
     "metadata": {},
     "outputs": [],
     "prompt_number": 4
    },
    {
     "cell_type": "code",
     "collapsed": false,
     "input": "#this is thesis stuff\nt=np.array(df[['1 Q','2 Q','3 Q','4 Q','5 Q','6  Q','7 Q','8 Q','9 Q','10 Q','11 Q']],dtype=\"float64\")\ndf['numDecision']=df.apply(mapDecision,axis=1)\ntarget_y=df['numDecision'].values\n",
     "language": "python",
     "metadata": {},
     "outputs": [],
     "prompt_number": 11
    },
    {
     "cell_type": "code",
     "collapsed": false,
     "input": "tmp2=prep.scale(t)\ntmp=tmp2\n#pd.DataFrame(tmp2).plot(kind='box')\n#plt.show()",
     "language": "python",
     "metadata": {},
     "outputs": [],
     "prompt_number": 12
    },
    {
     "cell_type": "code",
     "collapsed": false,
     "input": "#minmax=prep.MinMaxScaler()\n#tmp2=minmax.fit_transform(t)\n#pd.DataFrame(tmp2).plot(kind='box')\n#plt.show()\n#tmp=tmp2",
     "language": "python",
     "metadata": {},
     "outputs": [],
     "prompt_number": 45
    },
    {
     "cell_type": "code",
     "collapsed": false,
     "input": "#tmp2=prep.normalize(tmp,norm='l2')\n#pd.DataFrame(tmp2).plot(kind='box')\n#plt.show()\n#tmp=tmp2\n",
     "language": "python",
     "metadata": {},
     "outputs": [],
     "prompt_number": 51
    },
    {
     "cell_type": "code",
     "collapsed": false,
     "input": "#tmp2=prep.Binarizer().fit(t).transform(t)\n#pd.DataFrame(tmp2).plot(kind='box')\n#plt.show()\n#tmp=tmp2\nlen(x_new[:,])",
     "language": "python",
     "metadata": {},
     "outputs": [
      {
       "metadata": {},
       "output_type": "pyout",
       "prompt_number": 21,
       "text": "1461"
      }
     ],
     "prompt_number": 21
    },
    {
     "cell_type": "code",
     "collapsed": false,
     "input": "clf=PCA(n_components=2)\nX = clf.fit_transform(tmp)\nx_new=clf.inverse_transform(X)\nplt.plot(x_new[:,],x_new[:,1],'og',alpha=0.8)\nplt.title('After dropping')\nplt.show()",
     "language": "python",
     "metadata": {},
     "outputs": [],
     "prompt_number": 39
    },
    {
     "cell_type": "code",
     "collapsed": false,
     "input": "#x_new.shape\nx_new[:,1].shape",
     "language": "python",
     "metadata": {},
     "outputs": [
      {
       "metadata": {},
       "output_type": "pyout",
       "prompt_number": 45,
       "text": "(1461,)"
      }
     ],
     "prompt_number": 45
    },
    {
     "cell_type": "code",
     "collapsed": false,
     "input": "plt.scatter(X[:,0],X[:,1],alpha=0.8,c=target_y)\n\n#a1 = plt.scatter(X[is_inlier == 0, 0], X[is_inlier == 0, 1], c='white')\n\nplt.legend([\"Not considered\"])\nplt.show()",
     "language": "python",
     "metadata": {},
     "outputs": [],
     "prompt_number": 61
    },
    {
     "cell_type": "code",
     "collapsed": false,
     "input": "count_n=tmp.shape[0]\nOUTLIER_FRACTION = 0.26",
     "language": "python",
     "metadata": {},
     "outputs": [],
     "prompt_number": 10
    },
    {
     "cell_type": "code",
     "collapsed": false,
     "input": "clf=svm.OneClassSVM(kernel='rbf')\nclf.fit(tmp)",
     "language": "python",
     "metadata": {},
     "outputs": [
      {
       "metadata": {},
       "output_type": "pyout",
       "prompt_number": 11,
       "text": "OneClassSVM(cache_size=200, coef0=0.0, degree=3, gamma=0.0, kernel='rbf',\n      max_iter=-1, nu=0.5, random_state=None, shrinking=True, tol=0.001,\n      verbose=False)"
      }
     ],
     "prompt_number": 11
    },
    {
     "cell_type": "code",
     "collapsed": false,
     "input": "dist_to_border = clf.decision_function(tmp).ravel()\nthreshold = stats.scoreatpercentile(dist_to_border,\n            100 * OUTLIER_FRACTION)\n\nis_inlier = dist_to_border > threshold ",
     "language": "python",
     "metadata": {},
     "outputs": [],
     "prompt_number": 12
    },
    {
     "cell_type": "code",
     "collapsed": false,
     "input": "df[is_inlier == 0].Decision.value_counts()",
     "language": "python",
     "metadata": {},
     "outputs": [
      {
       "metadata": {},
       "output_type": "pyout",
       "prompt_number": 13,
       "text": "Not considered    267\nAct                45\nObserve            36\nOK                 32\ndtype: int64"
      }
     ],
     "prompt_number": 13
    },
    {
     "cell_type": "code",
     "collapsed": false,
     "input": "pd.DataFrame(dist_to_border).plot()\nplt.show()",
     "language": "python",
     "metadata": {},
     "outputs": [],
     "prompt_number": 14
    },
    {
     "cell_type": "code",
     "collapsed": false,
     "input": "df.Decision.value_counts()",
     "language": "python",
     "metadata": {},
     "outputs": [
      {
       "metadata": {},
       "output_type": "pyout",
       "prompt_number": 15,
       "text": "Not considered    1348\nAct                 45\nObserve             36\nOK                  32\ndtype: int64"
      }
     ],
     "prompt_number": 15
    },
    {
     "cell_type": "code",
     "collapsed": false,
     "input": "#PCA\nX = PCA(n_components=2).fit_transform(tmp)\nclf=svm.OneClassSVM(kernel='rbf')\nclf.fit(X)\ncount_n=X.shape[0]\ndist_to_border = clf.decision_function(X).ravel()\nthreshold = stats.scoreatpercentile(dist_to_border,\n            100 * OUTLIER_FRACTION)\nis_inlier = dist_to_border > threshold",
     "language": "python",
     "metadata": {},
     "outputs": [],
     "prompt_number": 16
    },
    {
     "cell_type": "code",
     "collapsed": false,
     "input": "#graph SVM+PCA\nxx, yy = np.meshgrid(np.linspace(-7, 7, 500), np.linspace(-7, 7, 500))\nn_inliers = int((1. - OUTLIER_FRACTION) * count_n)\nn_outliers = int(OUTLIER_FRACTION * count_n)\nZ = clf.decision_function(np.c_[xx.ravel(), yy.ravel()])\nZ = Z.reshape(xx.shape)\nplt.title(\"Outlier detection\")\nplt.contourf(xx, yy, Z, levels=np.linspace(Z.min(), threshold, 7),\n                         cmap=plt.cm.Blues_r)\na1 = plt.contour(xx, yy, Z, levels=[threshold],\n                            linewidths=2, colors='red')\nplt.contourf(xx, yy, Z, levels=[threshold, Z.max()],\n                         colors='orange')\nb1 = plt.scatter(X[is_inlier == 0, 0], X[is_inlier == 0, 1], c='white')\nc1 = plt.scatter(X[is_inlier == 1, 0], X[is_inlier == 1, 1], c='black')\nplt.axis('tight')\nplt.legend([a1.collections[0], b1, c1],\n           ['learned decision function', 'outliers', 'inliers'],\n           prop=matplotlib.font_manager.FontProperties(size=11))\nplt.xlim((-7, 7))\nplt.ylim((-7, 7))\nplt.show()",
     "language": "python",
     "metadata": {},
     "outputs": [],
     "prompt_number": 17
    },
    {
     "cell_type": "code",
     "collapsed": false,
     "input": "df1=df[is_inlier == 0]\ndf1=df1[df1['Decision']!='Not considered']\ndf1=df1.append(df[is_inlier != 0])\n#df1[['1 Q','2 Q','3 Q','4 Q','5 Q','6  Q','7 Q','8 Q','9 Q','10 Q','11 Q']].plot(kind='box')\n#plt.show()",
     "language": "python",
     "metadata": {},
     "outputs": [],
     "prompt_number": 18
    },
    {
     "cell_type": "code",
     "collapsed": false,
     "input": "#df1.to_csv('new_dataset.csv',encoding='utf-8')",
     "language": "python",
     "metadata": {},
     "outputs": [],
     "prompt_number": 27
    },
    {
     "cell_type": "code",
     "collapsed": false,
     "input": "def filled(x):\n    if x['N of students in the course']>29:\n        return 29*x['N of surveys filled']/x['N of students in the course']\n    else:\n        return x['N of surveys filled']",
     "language": "python",
     "metadata": {},
     "outputs": [],
     "prompt_number": 19
    },
    {
     "cell_type": "code",
     "collapsed": false,
     "input": "def total(x):\n    if x['N of students in the course']>29:\n        return 29\n    else:\n        return x['N of students in the course']",
     "language": "python",
     "metadata": {},
     "outputs": [],
     "prompt_number": 20
    },
    {
     "cell_type": "code",
     "collapsed": false,
     "input": "df1['NumStud_filled_created']=df1.apply(filled,axis=1)\ndf1['Stud_total_created']=df1.apply(total,axis=1)\ndel df1['N of students in the course']\ndel df1['N of surveys filled']\n",
     "language": "python",
     "metadata": {},
     "outputs": [],
     "prompt_number": 21
    },
    {
     "cell_type": "code",
     "collapsed": false,
     "input": "df1.head()",
     "language": "python",
     "metadata": {},
     "outputs": [
      {
       "html": "<div style=\"max-height:1000px;max-width:1500px;overflow:auto;\">\n<table border=\"1\" class=\"dataframe\">\n  <thead>\n    <tr style=\"text-align: right;\">\n      <th></th>\n      <th>Teacher</th>\n      <th>Other teacher</th>\n      <th>Course code</th>\n      <th>1 Q</th>\n      <th>2 Q</th>\n      <th>3 Q</th>\n      <th>4 Q</th>\n      <th>5 Q</th>\n      <th>6  Q</th>\n      <th>7 Q</th>\n      <th>...</th>\n      <th>Exclude 1</th>\n      <th>Bad Q3</th>\n      <th>Bad Q6</th>\n      <th>Bad Q8</th>\n      <th>Bad Q9</th>\n      <th>Bad average (2.5.6.9.11)</th>\n      <th>Anything bad</th>\n      <th>Decision</th>\n      <th>NumStud_filled_created</th>\n      <th>Stud_total_created</th>\n    </tr>\n  </thead>\n  <tbody>\n    <tr>\n      <th>18 </th>\n      <td>    JP-RBJ BRYOWN</td>\n      <td> NaN</td>\n      <td> JJD135</td>\n      <td> 5.00</td>\n      <td> 5.00</td>\n      <td> 4.50</td>\n      <td> 5.00</td>\n      <td> 5.00</td>\n      <td> 3.50</td>\n      <td> 4.00</td>\n      <td>...</td>\n      <td> 1</td>\n      <td> 0</td>\n      <td> 0</td>\n      <td> 1</td>\n      <td> 0</td>\n      <td> 0</td>\n      <td> 1</td>\n      <td>      OK</td>\n      <td>  2</td>\n      <td>  3</td>\n    </tr>\n    <tr>\n      <th>30 </th>\n      <td>     JRPJ-A #M-RA</td>\n      <td> NaN</td>\n      <td> KVB403</td>\n      <td> 4.49</td>\n      <td> 4.32</td>\n      <td> 4.59</td>\n      <td> 4.62</td>\n      <td> 4.27</td>\n      <td> 4.51</td>\n      <td> 3.47</td>\n      <td>...</td>\n      <td> 1</td>\n      <td> 0</td>\n      <td> 0</td>\n      <td> 1</td>\n      <td> 0</td>\n      <td> 0</td>\n      <td> 1</td>\n      <td>     Act</td>\n      <td> 17</td>\n      <td> 29</td>\n    </tr>\n    <tr>\n      <th>33 </th>\n      <td>        JRSJ YXUJ</td>\n      <td> NaN</td>\n      <td> MVA102</td>\n      <td> 4.64</td>\n      <td> 3.78</td>\n      <td> 2.83</td>\n      <td> 3.96</td>\n      <td> 3.78</td>\n      <td> 3.15</td>\n      <td> 3.78</td>\n      <td>...</td>\n      <td> 1</td>\n      <td> 1</td>\n      <td> 0</td>\n      <td> 0</td>\n      <td> 0</td>\n      <td> 0</td>\n      <td> 1</td>\n      <td> Observe</td>\n      <td> 24</td>\n      <td> 29</td>\n    </tr>\n    <tr>\n      <th>85 </th>\n      <td>    JUMRA KJUXMRA</td>\n      <td> NaN</td>\n      <td> VNN709</td>\n      <td> 3.94</td>\n      <td> 2.94</td>\n      <td> 2.69</td>\n      <td> 3.94</td>\n      <td> 4.06</td>\n      <td> 3.75</td>\n      <td> 4.13</td>\n      <td>...</td>\n      <td> 1</td>\n      <td> 1</td>\n      <td> 0</td>\n      <td> 0</td>\n      <td> 0</td>\n      <td> 0</td>\n      <td> 1</td>\n      <td> Observe</td>\n      <td> 16</td>\n      <td> 28</td>\n    </tr>\n    <tr>\n      <th>107</th>\n      <td> JUNTAJWM-A PUJHA</td>\n      <td> NaN</td>\n      <td> MJJ312</td>\n      <td> 4.50</td>\n      <td> 4.50</td>\n      <td> 2.50</td>\n      <td> 2.00</td>\n      <td> 4.50</td>\n      <td> 3.50</td>\n      <td> 3.50</td>\n      <td>...</td>\n      <td> 1</td>\n      <td> 1</td>\n      <td> 0</td>\n      <td> 1</td>\n      <td> 1</td>\n      <td> 0</td>\n      <td> 1</td>\n      <td> Observe</td>\n      <td>  2</td>\n      <td>  3</td>\n    </tr>\n  </tbody>\n</table>\n<p>5 rows \u00d7 25 columns</p>\n</div>",
       "metadata": {},
       "output_type": "pyout",
       "prompt_number": 22,
       "text": "              Teacher Other teacher Course code   1 Q   2 Q   3 Q   4 Q   5 Q  \\\n18      JP-RBJ BRYOWN           NaN      JJD135  5.00  5.00  4.50  5.00  5.00   \n30       JRPJ-A #M-RA           NaN      KVB403  4.49  4.32  4.59  4.62  4.27   \n33          JRSJ YXUJ           NaN      MVA102  4.64  3.78  2.83  3.96  3.78   \n85      JUMRA KJUXMRA           NaN      VNN709  3.94  2.94  2.69  3.94  4.06   \n107  JUNTAJWM-A PUJHA           NaN      MJJ312  4.50  4.50  2.50  2.00  4.50   \n\n     6  Q   7 Q         ...          Exclude 1  Bad Q3  Bad Q6  Bad Q8  \\\n18   3.50  4.00         ...                  1       0       0       1   \n30   4.51  3.47         ...                  1       0       0       1   \n33   3.15  3.78         ...                  1       1       0       0   \n85   3.75  4.13         ...                  1       1       0       0   \n107  3.50  3.50         ...                  1       1       0       1   \n\n     Bad Q9  Bad average (2.5.6.9.11)  Anything bad  Decision  \\\n18        0                         0             1        OK   \n30        0                         0             1       Act   \n33        0                         0             1   Observe   \n85        0                         0             1   Observe   \n107       1                         0             1   Observe   \n\n     NumStud_filled_created  Stud_total_created  \n18                        2                   3  \n30                       17                  29  \n33                       24                  29  \n85                       16                  28  \n107                       2                   3  \n\n[5 rows x 25 columns]"
      }
     ],
     "prompt_number": 22
    },
    {
     "cell_type": "code",
     "collapsed": false,
     "input": "df1[['Stud_total_created','NumStud_filled_created']].plot(kind='box')\nplt.show()",
     "language": "python",
     "metadata": {},
     "outputs": [],
     "prompt_number": 24
    },
    {
     "cell_type": "code",
     "collapsed": false,
     "input": "df1['numstud_total_filled'] = PCA(n_components=1).fit_transform(df1[['Stud_total_created','NumStud_filled_created']])",
     "language": "python",
     "metadata": {},
     "outputs": [],
     "prompt_number": 25
    },
    {
     "cell_type": "code",
     "collapsed": false,
     "input": "df1.head()",
     "language": "python",
     "metadata": {},
     "outputs": [
      {
       "html": "<div style=\"max-height:1000px;max-width:1500px;overflow:auto;\">\n<table border=\"1\" class=\"dataframe\">\n  <thead>\n    <tr style=\"text-align: right;\">\n      <th></th>\n      <th>Teacher</th>\n      <th>Other teacher</th>\n      <th>Course code</th>\n      <th>1 Q</th>\n      <th>2 Q</th>\n      <th>3 Q</th>\n      <th>4 Q</th>\n      <th>5 Q</th>\n      <th>6  Q</th>\n      <th>7 Q</th>\n      <th>...</th>\n      <th>Bad Q3</th>\n      <th>Bad Q6</th>\n      <th>Bad Q8</th>\n      <th>Bad Q9</th>\n      <th>Bad average (2.5.6.9.11)</th>\n      <th>Anything bad</th>\n      <th>Decision</th>\n      <th>NumStud_filled_created</th>\n      <th>Stud_total_created</th>\n      <th>numstud_total_filled</th>\n    </tr>\n  </thead>\n  <tbody>\n    <tr>\n      <th>18 </th>\n      <td>    JP-RBJ BRYOWN</td>\n      <td> NaN</td>\n      <td> JJD135</td>\n      <td> 5.00</td>\n      <td> 5.00</td>\n      <td> 4.50</td>\n      <td> 5.00</td>\n      <td> 5.00</td>\n      <td> 3.50</td>\n      <td> 4.00</td>\n      <td>...</td>\n      <td> 0</td>\n      <td> 0</td>\n      <td> 1</td>\n      <td> 0</td>\n      <td> 0</td>\n      <td> 1</td>\n      <td>      OK</td>\n      <td>  2</td>\n      <td>  3</td>\n      <td>-19.448131</td>\n    </tr>\n    <tr>\n      <th>30 </th>\n      <td>     JRPJ-A #M-RA</td>\n      <td> NaN</td>\n      <td> KVB403</td>\n      <td> 4.49</td>\n      <td> 4.32</td>\n      <td> 4.59</td>\n      <td> 4.62</td>\n      <td> 4.27</td>\n      <td> 4.51</td>\n      <td> 3.47</td>\n      <td>...</td>\n      <td> 0</td>\n      <td> 0</td>\n      <td> 1</td>\n      <td> 0</td>\n      <td> 0</td>\n      <td> 1</td>\n      <td>     Act</td>\n      <td> 17</td>\n      <td> 29</td>\n      <td> 10.541282</td>\n    </tr>\n    <tr>\n      <th>33 </th>\n      <td>        JRSJ YXUJ</td>\n      <td> NaN</td>\n      <td> MVA102</td>\n      <td> 4.64</td>\n      <td> 3.78</td>\n      <td> 2.83</td>\n      <td> 3.96</td>\n      <td> 3.78</td>\n      <td> 3.15</td>\n      <td> 3.78</td>\n      <td>...</td>\n      <td> 1</td>\n      <td> 0</td>\n      <td> 0</td>\n      <td> 0</td>\n      <td> 0</td>\n      <td> 1</td>\n      <td> Observe</td>\n      <td> 24</td>\n      <td> 29</td>\n      <td> 14.294461</td>\n    </tr>\n    <tr>\n      <th>85 </th>\n      <td>    JUMRA KJUXMRA</td>\n      <td> NaN</td>\n      <td> VNN709</td>\n      <td> 3.94</td>\n      <td> 2.94</td>\n      <td> 2.69</td>\n      <td> 3.94</td>\n      <td> 4.06</td>\n      <td> 3.75</td>\n      <td> 4.13</td>\n      <td>...</td>\n      <td> 1</td>\n      <td> 0</td>\n      <td> 0</td>\n      <td> 0</td>\n      <td> 0</td>\n      <td> 1</td>\n      <td> Observe</td>\n      <td> 16</td>\n      <td> 28</td>\n      <td>  9.161003</td>\n    </tr>\n    <tr>\n      <th>107</th>\n      <td> JUNTAJWM-A PUJHA</td>\n      <td> NaN</td>\n      <td> MJJ312</td>\n      <td> 4.50</td>\n      <td> 4.50</td>\n      <td> 2.50</td>\n      <td> 2.00</td>\n      <td> 4.50</td>\n      <td> 3.50</td>\n      <td> 3.50</td>\n      <td>...</td>\n      <td> 1</td>\n      <td> 0</td>\n      <td> 1</td>\n      <td> 1</td>\n      <td> 0</td>\n      <td> 1</td>\n      <td> Observe</td>\n      <td>  2</td>\n      <td>  3</td>\n      <td>-19.448131</td>\n    </tr>\n  </tbody>\n</table>\n<p>5 rows \u00d7 26 columns</p>\n</div>",
       "metadata": {},
       "output_type": "pyout",
       "prompt_number": 26,
       "text": "              Teacher Other teacher Course code   1 Q   2 Q   3 Q   4 Q   5 Q  \\\n18      JP-RBJ BRYOWN           NaN      JJD135  5.00  5.00  4.50  5.00  5.00   \n30       JRPJ-A #M-RA           NaN      KVB403  4.49  4.32  4.59  4.62  4.27   \n33          JRSJ YXUJ           NaN      MVA102  4.64  3.78  2.83  3.96  3.78   \n85      JUMRA KJUXMRA           NaN      VNN709  3.94  2.94  2.69  3.94  4.06   \n107  JUNTAJWM-A PUJHA           NaN      MJJ312  4.50  4.50  2.50  2.00  4.50   \n\n     6  Q   7 Q          ...           Bad Q3  Bad Q6  Bad Q8  Bad Q9  \\\n18   3.50  4.00          ...                0       0       1       0   \n30   4.51  3.47          ...                0       0       1       0   \n33   3.15  3.78          ...                1       0       0       0   \n85   3.75  4.13          ...                1       0       0       0   \n107  3.50  3.50          ...                1       0       1       1   \n\n     Bad average (2.5.6.9.11)  Anything bad  Decision  NumStud_filled_created  \\\n18                          0             1        OK                       2   \n30                          0             1       Act                      17   \n33                          0             1   Observe                      24   \n85                          0             1   Observe                      16   \n107                         0             1   Observe                       2   \n\n     Stud_total_created  numstud_total_filled  \n18                    3            -19.448131  \n30                   29             10.541282  \n33                   29             14.294461  \n85                   28              9.161003  \n107                   3            -19.448131  \n\n[5 rows x 26 columns]"
      }
     ],
     "prompt_number": 26
    },
    {
     "cell_type": "code",
     "collapsed": false,
     "input": "def isOtherTeacher(x):\n    try:\n        if np.isnan(x['Other teacher']):\n            return 0\n        else:\n            return 1\n    except:\n        return 1\n    ",
     "language": "python",
     "metadata": {},
     "outputs": [],
     "prompt_number": 27
    },
    {
     "cell_type": "code",
     "collapsed": false,
     "input": "df1['isThereOtherTeacher']=df1.apply(isOtherTeacher,axis=1)",
     "language": "python",
     "metadata": {},
     "outputs": [],
     "prompt_number": 28
    },
    {
     "cell_type": "code",
     "collapsed": false,
     "input": "del df1['Other teacher']",
     "language": "python",
     "metadata": {},
     "outputs": [],
     "prompt_number": 29
    },
    {
     "cell_type": "code",
     "collapsed": false,
     "input": "def mapDecision(x):\n    if x['Decision']=='Act':\n        return 3\n    elif x['Decision']=='OK':\n        return 1\n    elif x['Decision']=='Observe':\n        return 2\n    else:\n        return 0",
     "language": "python",
     "metadata": {},
     "outputs": [],
     "prompt_number": 9
    },
    {
     "cell_type": "code",
     "collapsed": false,
     "input": "df1['numDecision']=df1.apply(mapDecision,axis=1)",
     "language": "python",
     "metadata": {},
     "outputs": [],
     "prompt_number": 31
    },
    {
     "cell_type": "code",
     "collapsed": false,
     "input": "df1.to_csv('df1.csv')",
     "language": "python",
     "metadata": {},
     "outputs": [],
     "prompt_number": 132
    },
    {
     "cell_type": "code",
     "collapsed": false,
     "input": "df1.head()",
     "language": "python",
     "metadata": {},
     "outputs": [
      {
       "html": "<div style=\"max-height:1000px;max-width:1500px;overflow:auto;\">\n<table border=\"1\" class=\"dataframe\">\n  <thead>\n    <tr style=\"text-align: right;\">\n      <th></th>\n      <th>Teacher</th>\n      <th>Course code</th>\n      <th>1 Q</th>\n      <th>2 Q</th>\n      <th>3 Q</th>\n      <th>4 Q</th>\n      <th>5 Q</th>\n      <th>6  Q</th>\n      <th>7 Q</th>\n      <th>8 Q</th>\n      <th>...</th>\n      <th>Bad Q8</th>\n      <th>Bad Q9</th>\n      <th>Bad average (2.5.6.9.11)</th>\n      <th>Anything bad</th>\n      <th>Decision</th>\n      <th>NumStud_filled_created</th>\n      <th>Stud_total_created</th>\n      <th>numstud_total_filled</th>\n      <th>isThereOtherTeacher</th>\n      <th>numDecision</th>\n    </tr>\n  </thead>\n  <tbody>\n    <tr>\n      <th>18 </th>\n      <td>    JP-RBJ BRYOWN</td>\n      <td> JJD135</td>\n      <td> 5.00</td>\n      <td> 5.00</td>\n      <td> 4.50</td>\n      <td> 5.00</td>\n      <td> 5.00</td>\n      <td> 3.50</td>\n      <td> 4.00</td>\n      <td> 2.00</td>\n      <td>...</td>\n      <td> 1</td>\n      <td> 0</td>\n      <td> 0</td>\n      <td> 1</td>\n      <td>      OK</td>\n      <td>  2</td>\n      <td>  3</td>\n      <td>-19.448131</td>\n      <td> 0</td>\n      <td> 2</td>\n    </tr>\n    <tr>\n      <th>30 </th>\n      <td>     JRPJ-A #M-RA</td>\n      <td> KVB403</td>\n      <td> 4.49</td>\n      <td> 4.32</td>\n      <td> 4.59</td>\n      <td> 4.62</td>\n      <td> 4.27</td>\n      <td> 4.51</td>\n      <td> 3.47</td>\n      <td> 2.94</td>\n      <td>...</td>\n      <td> 1</td>\n      <td> 0</td>\n      <td> 0</td>\n      <td> 1</td>\n      <td>     Act</td>\n      <td> 17</td>\n      <td> 29</td>\n      <td> 10.541282</td>\n      <td> 0</td>\n      <td> 3</td>\n    </tr>\n    <tr>\n      <th>33 </th>\n      <td>        JRSJ YXUJ</td>\n      <td> MVA102</td>\n      <td> 4.64</td>\n      <td> 3.78</td>\n      <td> 2.83</td>\n      <td> 3.96</td>\n      <td> 3.78</td>\n      <td> 3.15</td>\n      <td> 3.78</td>\n      <td> 4.04</td>\n      <td>...</td>\n      <td> 0</td>\n      <td> 0</td>\n      <td> 0</td>\n      <td> 1</td>\n      <td> Observe</td>\n      <td> 24</td>\n      <td> 29</td>\n      <td> 14.294461</td>\n      <td> 0</td>\n      <td> 1</td>\n    </tr>\n    <tr>\n      <th>85 </th>\n      <td>    JUMRA KJUXMRA</td>\n      <td> VNN709</td>\n      <td> 3.94</td>\n      <td> 2.94</td>\n      <td> 2.69</td>\n      <td> 3.94</td>\n      <td> 4.06</td>\n      <td> 3.75</td>\n      <td> 4.13</td>\n      <td> 4.50</td>\n      <td>...</td>\n      <td> 0</td>\n      <td> 0</td>\n      <td> 0</td>\n      <td> 1</td>\n      <td> Observe</td>\n      <td> 16</td>\n      <td> 28</td>\n      <td>  9.161003</td>\n      <td> 0</td>\n      <td> 1</td>\n    </tr>\n    <tr>\n      <th>107</th>\n      <td> JUNTAJWM-A PUJHA</td>\n      <td> MJJ312</td>\n      <td> 4.50</td>\n      <td> 4.50</td>\n      <td> 2.50</td>\n      <td> 2.00</td>\n      <td> 4.50</td>\n      <td> 3.50</td>\n      <td> 3.50</td>\n      <td> 2.00</td>\n      <td>...</td>\n      <td> 1</td>\n      <td> 1</td>\n      <td> 0</td>\n      <td> 1</td>\n      <td> Observe</td>\n      <td>  2</td>\n      <td>  3</td>\n      <td>-19.448131</td>\n      <td> 0</td>\n      <td> 1</td>\n    </tr>\n  </tbody>\n</table>\n<p>5 rows \u00d7 27 columns</p>\n</div>",
       "metadata": {},
       "output_type": "pyout",
       "prompt_number": 32,
       "text": "              Teacher Course code   1 Q   2 Q   3 Q   4 Q   5 Q  6  Q   7 Q  \\\n18      JP-RBJ BRYOWN      JJD135  5.00  5.00  4.50  5.00  5.00  3.50  4.00   \n30       JRPJ-A #M-RA      KVB403  4.49  4.32  4.59  4.62  4.27  4.51  3.47   \n33          JRSJ YXUJ      MVA102  4.64  3.78  2.83  3.96  3.78  3.15  3.78   \n85      JUMRA KJUXMRA      VNN709  3.94  2.94  2.69  3.94  4.06  3.75  4.13   \n107  JUNTAJWM-A PUJHA      MJJ312  4.50  4.50  2.50  2.00  4.50  3.50  3.50   \n\n      8 Q     ...       Bad Q8  Bad Q9  Bad average (2.5.6.9.11)  \\\n18   2.00     ...            1       0                         0   \n30   2.94     ...            1       0                         0   \n33   4.04     ...            0       0                         0   \n85   4.50     ...            0       0                         0   \n107  2.00     ...            1       1                         0   \n\n     Anything bad  Decision  NumStud_filled_created  Stud_total_created  \\\n18              1        OK                       2                   3   \n30              1       Act                      17                  29   \n33              1   Observe                      24                  29   \n85              1   Observe                      16                  28   \n107             1   Observe                       2                   3   \n\n     numstud_total_filled  isThereOtherTeacher  numDecision  \n18             -19.448131                    0            2  \n30              10.541282                    0            3  \n33              14.294461                    0            1  \n85               9.161003                    0            1  \n107            -19.448131                    0            1  \n\n[5 rows x 27 columns]"
      }
     ],
     "prompt_number": 32
    },
    {
     "cell_type": "code",
     "collapsed": false,
     "input": "",
     "language": "python",
     "metadata": {},
     "outputs": [],
     "prompt_number": 234
    },
    {
     "cell_type": "code",
     "collapsed": false,
     "input": "# Feature importance\nfrom sklearn.ensemble import ExtraTreesClassifier",
     "language": "python",
     "metadata": {},
     "outputs": [],
     "prompt_number": 33
    },
    {
     "cell_type": "code",
     "collapsed": false,
     "input": "forest = ExtraTreesClassifier(n_estimators=550,random_state=1)",
     "language": "python",
     "metadata": {},
     "outputs": [],
     "prompt_number": 34
    },
    {
     "cell_type": "code",
     "collapsed": false,
     "input": "df2=df1.copy()",
     "language": "python",
     "metadata": {},
     "outputs": [],
     "prompt_number": 35
    },
    {
     "cell_type": "code",
     "collapsed": false,
     "input": "#df2=df2[df2['numDecision']!=0] # this will filter out weather it is preselection (commented) or after selection (uncommented)",
     "language": "python",
     "metadata": {},
     "outputs": [],
     "prompt_number": 215
    },
    {
     "cell_type": "code",
     "collapsed": false,
     "input": "#df2=df3",
     "language": "python",
     "metadata": {},
     "outputs": [],
     "prompt_number": 256
    },
    {
     "cell_type": "code",
     "collapsed": false,
     "input": "feature_importance_x=np.array(df2[['1 Q','2 Q','3 Q','4 Q','5 Q','6  Q','7 Q','8 Q','9 Q','10 Q','11 Q']],dtype=\"float64\")\nfeature_importance_y=np.array(df2[['numDecision']],dtype=\"float64\")\nfeature_importance_y[feature_importance_y<1]=0\nfeature_importance_y[feature_importance_y>=1]=1\n",
     "language": "python",
     "metadata": {},
     "outputs": [],
     "prompt_number": 36
    },
    {
     "cell_type": "code",
     "collapsed": false,
     "input": "forest.fit(feature_importance_x,feature_importance_y.ravel())\nimportances = forest.feature_importances_",
     "language": "python",
     "metadata": {},
     "outputs": [],
     "prompt_number": 37
    },
    {
     "cell_type": "code",
     "collapsed": false,
     "input": "t2=pd.DataFrame(importances)\nt2.index=['1 Q','2 Q','3 Q','4 Q','5 Q','6  Q','7 Q','8 Q','9 Q','10 Q','11 Q']\nt2.columns=['importance in %']\nt2['importance in %']=t2['importance in %']*100\nt2=t2.sort(columns=['importance in %'],ascending=1)\nt2.plot(kind='bar')\nplt.show()",
     "language": "python",
     "metadata": {},
     "outputs": [],
     "prompt_number": 38
    },
    {
     "cell_type": "code",
     "collapsed": false,
     "input": "#this is for logistic regression\n#from sklearn.linear_model import LogisticRegression\n#logreg=LogisticRegression(C=1)\n#logreg.fit(feature_importance_x,feature_importance_y.ravel())\n#t3=pd.DataFrame(logreg.coef_.ravel())\n#t3.index=['1 Q','2 Q','3 Q','4 Q','5 Q','6  Q','7 Q','8 Q','9 Q','10 Q','11 Q']\n#t3.columns=['importance in %']\n#t3['importance in %']=t3['importance in %']\n#t3=t3.sort(columns=['importance in %'],ascending=1)\n#t3.plot(kind='bar')\n#plt.show()",
     "language": "python",
     "metadata": {},
     "outputs": [],
     "prompt_number": 261
    },
    {
     "cell_type": "code",
     "collapsed": false,
     "input": "df2.info()",
     "language": "python",
     "metadata": {},
     "outputs": [
      {
       "output_type": "stream",
       "stream": "stdout",
       "text": "<class 'pandas.core.frame.DataFrame'>\nInt64Index: 1163 entries, 18 to 2687\nData columns (total 27 columns):\nTeacher                     1163 non-null object\nCourse code                 1163 non-null object\n1 Q                         1163 non-null float64\n2 Q                         1163 non-null float64\n3 Q                         1163 non-null float64\n4 Q                         1163 non-null float64\n5 Q                         1163 non-null float64\n6  Q                        1163 non-null float64\n7 Q                         1163 non-null float64\n8 Q                         1163 non-null float64\n9 Q                         1163 non-null float64\n10 Q                        1163 non-null float64\n11 Q                        1163 non-null float64\nValid                       1163 non-null int64\nExclude 1                   1163 non-null int64\nBad Q3                      1163 non-null int64\nBad Q6                      1163 non-null int64\nBad Q8                      1163 non-null int64\nBad Q9                      1163 non-null int64\nBad average (2.5.6.9.11)    1163 non-null int64\nAnything bad                1163 non-null int64\nDecision                    1163 non-null object\nNumStud_filled_created      1163 non-null int64\nStud_total_created          1163 non-null int64\nnumstud_total_filled        1163 non-null float64\nisThereOtherTeacher         1163 non-null int64\nnumDecision                 1163 non-null int64\ndtypes: float64(12), int64(12), object(3)\nmemory usage: 240.8+ KB\n"
      }
     ],
     "prompt_number": 39
    },
    {
     "cell_type": "code",
     "collapsed": false,
     "input": "df3=df2.loc[np.random.choice(df2[df2['numDecision']==0].index, 250, replace=False)]\ndf3=df3.append(df2[df2['numDecision']!=0])",
     "language": "python",
     "metadata": {},
     "outputs": [],
     "prompt_number": 40
    },
    {
     "cell_type": "code",
     "collapsed": false,
     "input": "df3.to_csv('df3.csv',sep=',')",
     "language": "python",
     "metadata": {},
     "outputs": [],
     "prompt_number": 269
    },
    {
     "cell_type": "code",
     "collapsed": false,
     "input": "feature_x=np.array(df3[['1 Q','2 Q','3 Q','4 Q','5 Q','6  Q','7 Q','8 Q','9 Q','10 Q','11 Q']],dtype=\"float64\")\n#target_y=np.array(df[['numDecision']],dtype=\"float64\")\ntarget_y=df3['numDecision'].values",
     "language": "python",
     "metadata": {},
     "outputs": [],
     "prompt_number": 43
    },
    {
     "cell_type": "code",
     "collapsed": false,
     "input": "from sklearn.cross_validation import cross_val_score\nscores=cross_val_score(forest,feature_x,target_y,cv=10)",
     "language": "python",
     "metadata": {},
     "outputs": [],
     "prompt_number": 50
    },
    {
     "cell_type": "code",
     "collapsed": false,
     "input": "scores.mean()",
     "language": "python",
     "metadata": {},
     "outputs": [
      {
       "metadata": {},
       "output_type": "pyout",
       "prompt_number": 49,
       "text": "0.82649366226338061"
      }
     ],
     "prompt_number": 49
    },
    {
     "cell_type": "code",
     "collapsed": false,
     "input": "",
     "language": "python",
     "metadata": {},
     "outputs": []
    }
   ],
   "metadata": {}
  }
 ]
}