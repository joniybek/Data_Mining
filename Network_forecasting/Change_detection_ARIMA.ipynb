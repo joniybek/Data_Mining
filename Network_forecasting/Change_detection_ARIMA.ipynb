{
 "metadata": {
  "name": "arima_with_db (1)",
  "signature": "sha256:4aadf49b37d1d484e6fe6ca4f154607a5ed137c460388761c82edc46cfae23bc"
 },
 "nbformat": 3,
 "nbformat_minor": 0,
 "worksheets": [
  {
   "cells": [
    {
     "cell_type": "code",
     "collapsed": false,
     "input": "\n# This program is desined to detect anomalies in mobile network traffic data for Voice, SMS, GPRS and MMS&Content flows.\n# It has SQLite db file as storage for scripts and traffic data\n# Traffic data is queried using scripts in 'controls' table in SQLite from Oracle DB for last X days and inserted to local SQLite DB.\n# After traffic is gathered for more than 8 days it can be predicted, generally it predicts using last 65 days data\n# After prediction current and predicted traffic is compared and if absolute deviation is more than standard deviation of predicted model then it is counted as deviation\n# Deviations are reported and then altered with prediction in internal DB\n# On reporting emial is sent with deviations stating detailed information and plotting graphs with prediction and current traffic.\n# In the future I will add more functions such as impact analysis, checking consistency of data in tables, checking loading issues\n\n# All You need is to install Anaconda package, I used\nimport matplotlib\nimport sys\nimport sqlite3 as lite\nimport numpy as np\nimport matplotlib.pyplot as plt\nimport pandas as pd\nfrom statsmodels.tsa.arima_model import ARIMA\n#import cx_Oracle\nfrom pandas.stats.api import ols\n#%matplotlib inline\ncontrol_list=list()\ndf_dev=list()\n\n\n",
     "language": "python",
     "metadata": {},
     "outputs": [],
     "prompt_number": 1
    },
    {
     "cell_type": "code",
     "collapsed": false,
     "input": "def connectOracle():\n    conOx = cx_Oracle.connect('jakhash/')\n    print conOx.version\n    return conOx\n\n#this is just for experementing with data from Oracle\ndef rdf(text):\n    global conOx\n    df=pd.read_sql(text,conOx)\n    df.columns = map(str.lower, df.columns)\n    return df\n    ",
     "language": "python",
     "metadata": {},
     "outputs": [],
     "prompt_number": 2
    },
    {
     "cell_type": "code",
     "collapsed": false,
     "input": "\n",
     "language": "python",
     "metadata": {},
     "outputs": [],
     "prompt_number": 2
    },
    {
     "cell_type": "code",
     "collapsed": false,
     "input": "# this is to making exports\n#ts1=pd.read_pickle('files/cont.pkl')\n#ts.to_csv('example.tmp')",
     "language": "python",
     "metadata": {},
     "outputs": [],
     "prompt_number": 3
    },
    {
     "cell_type": "code",
     "collapsed": false,
     "input": "def connectLite():\n    conLite = None\n    try:\n        conLite = lite.connect('files\\data.db')\n        cur = conLite.cursor()\n        cur.execute('SELECT SQLITE_VERSION()')\n        data = cur.fetchone()\n        print \"SQLite version: %s\" % data\n    except lite.Error, e:\n        print \"Error %s:\" % e.args[0]\n        sys.exit(1)\n    return conLite",
     "language": "python",
     "metadata": {},
     "outputs": [],
     "prompt_number": 4
    },
    {
     "cell_type": "code",
     "collapsed": false,
     "input": "# this will read internal database given control name\ndef readTrend(snum,conLite):\n    df=pd.read_sql(\"select d_timestamp,volume from trend_data where contr_id='\"+snum+\"' and d_timestamp>date('now','-65 days') order by date(d_timestamp) \",conLite,parse_dates='d_timestamp')\n    df.columns = map(str.lower, df.columns)\n    df=df.set_index('d_timestamp')\n    return df\n    ",
     "language": "python",
     "metadata": {},
     "outputs": [],
     "prompt_number": 5
    },
    {
     "cell_type": "code",
     "collapsed": false,
     "input": "# ARIMA model itself, in the furute will be altered with SARIMA\ndef fitArima(ts):\n    import statsmodels.api as sm\n    logged_ts = np.log(ts)\n    diffed_logged_ts = (logged_ts - logged_ts.shift(7))[7:]\n    p = 0\n    d = 1\n    q = 1\n    arima = ARIMA(diffed_logged_ts, [p, d, q], exog=None, freq='D', missing='none')\n    diffed_logged_results = arima.fit(trend='c', disp=False)\n    predicted_diffed_logged = diffed_logged_results.predict(exog=None, dynamic=False)\n    #a=pd.date_range(diffed_logged_ts.index[1], periods=90, freq='D')\n    predicted_diffed_logged_ts = pd.Series(predicted_diffed_logged, index=diffed_logged_ts.index[d:])\n    predicted_diffed_logged_ts = np.exp(logged_ts.shift(7) + diffed_logged_ts.shift(d) + predicted_diffed_logged_ts)\n    \n    concatenated = pd.concat([ts, predicted_diffed_logged_ts], axis=1, keys=['original', 'predicted'])\n    #a= concatenated\n    #a.plot()\n    #plt.show()\n    return concatenated\n",
     "language": "python",
     "metadata": {},
     "outputs": [],
     "prompt_number": 6
    },
    {
     "cell_type": "code",
     "collapsed": false,
     "input": "# This will fix deviation for the purpose of accuracy in next prediction\ndef correct_record(df):\n    global conLite\n    global snum\n    cur = conLite.cursor()\n    cur.execute(\"update trend_data set volume=\"+str(df.predicted)+\", write_flag=1 where d_timestamp='\"+str(df.name)[:10]+\"' and contr_id='\"+snum+\"'\")\n    conLite.commit()\n    #print \"update trend_data set volume=\"+str(df.predicted)+\",write_flag=1 where d_timestamp='\"+str(df.name)[:10]+\"' and contr_id='\"+snum+\"'\"\n    ",
     "language": "python",
     "metadata": {},
     "outputs": [],
     "prompt_number": 7
    },
    {
     "cell_type": "code",
     "collapsed": false,
     "input": "#This is for automatically fixing deviations\ndef fixTrend(df):\n    for i in xrange(8,len(df)):\n        #x=np.std(df.iloc[:i][(df['wd']==df['wd'].iloc[i])]['original'])\n        x=np.std(df.iloc[:i]['original'])\n        y=df['original'].iloc[i]-df['predicted'].iloc[i]\n        if np.abs(y)>3*x:\n            print 'fixing data at '+str(df.iloc[i].name)\n            #print str(df.iloc[i])+ '  this is y= '+str(y)+ '  this is x= '+ str(x)\n            correct_record(df.iloc[i])\n            break",
     "language": "python",
     "metadata": {},
     "outputs": [],
     "prompt_number": 8
    },
    {
     "cell_type": "code",
     "collapsed": false,
     "input": "#This will insert data to internal database gived data from external source,\n# Logic is so that \"fixed\" deviations (write_flag=1) will not be updated, new records are inserted, old ones will be updated\ndef updateTrend(df,snum):\n    global conLite\n    with conLite:\n        cur = conLite.cursor()\n        for i,c in df.iterrows():\n            #print \"insert or replace into trend_data (contr_id,d_timestamp,volume,write_flag) values ('\"+snum+\"','\"+str(c[0])[:10]+\"','\"+str(c[1])+\"', '0');\"\n            try:\n                cur.execute(\"update or ignore trend_data set volume='\"+str(c[1])+\"' where contr_id='\"+snum+\"' and d_timestamp='\"+str(c[0])[:10]+\"' and write_flag=0;\")\n                cur.execute(\"insert or ignore into trend_data (contr_id,d_timestamp,volume,write_flag) values ('\"+snum+\"','\"+str(c[0])[:10]+\"','\"+str(c[1])+\"', '0') ;\")\n                conLite.commit()\n            except:\n                #print \"insert or replace into trend_data (contr_id,d_timestamp,volume,write_flag) values (\"+snum+\",\"+c[0]+\",\"+c[1]+\", 0);\"\n                print sys.exc_info()[1]\n        ",
     "language": "python",
     "metadata": {},
     "outputs": [],
     "prompt_number": 9
    },
    {
     "cell_type": "code",
     "collapsed": false,
     "input": "# This will make a list of current activated (active_flag) controls in internal DB, reads coresonding SQL script for each control, queries external source \n# calls fuction to update internal db with new data\ndef updateTrends():\n    global conLite\n    global conOx\n    global control_list\n    control_list=list()\n    with conLite:\n        curLite = conLite.cursor()\n        curLite.execute('select contr_id, script from controls where active_flag=1')\n        cs_list=[(i[0],i[1]) for i in curLite.fetchall()]\n        with conOx:\n            for ci,si in cs_list:\n                print ci\n                control_list.append(ci)\n                df=df=pd.read_sql(si,conOx)\n                try:\n                    updateTrend(df,ci)\n                except:\n                    print 'error in updating trends'\n    return control_list\n ",
     "language": "python",
     "metadata": {},
     "outputs": [],
     "prompt_number": 10
    },
    {
     "cell_type": "code",
     "collapsed": false,
     "input": "# This will check deviations in predicted and current model, mismatches is added to massive\ndef checkTrend(cnum,df):\n    deviations=list()\n    df['wd']=df.index.weekday\n    df.columns = df.columns.get_level_values(0)\n                \n    for i in xrange(len(df)-15,len(df)):\n        #std=np.std(df.iloc[:i][(df['wd']==df['wd'].iloc[i])]['original'])\n        #mean=np.mean(df.iloc[:i][(df['wd']==df['wd'].iloc[i])]['original'])\n        std=np.std(df.iloc[:i]['predicted'])\n        #mean=np.mean(df.iloc[:i]['predicted'])\n        diff=df['original'].iloc[i]-df['predicted'].iloc[i]\n        #print str(df.iloc[i].name)+' at original v= ' +str(df['original'].iloc[i]) +' predicted v= '+str(df['predicted'].iloc[i])+' standard dev= '+str(std)+' diff= '+str(diff)\n        if np.abs(diff)>std:\n            deviations.append((df.iloc[i].name,cnum,diff,std,df['original'].iloc[i],df['predicted'].iloc[i]))\n            #print diff,std\n            #print 'there is deviation at '+str(df.iloc[i].name)\n            #print str(df.iloc[i])+ '  this is y= '+str(y)+ '  this is x= '+ str(x)+ '  this is = '+ str(x)\n    return deviations\n   ",
     "language": "python",
     "metadata": {},
     "outputs": [],
     "prompt_number": 11
    },
    {
     "cell_type": "code",
     "collapsed": false,
     "input": "# This is for sending email through Unix server, Multipart email is prepared in Windows machine locally and uploaded to Unix and sent via Mutt client.\n# Multipart email includes: Deviation with detailed information and Plotted graph saved as jpg file\n# This part is under further development\ndef sendMailViaTetra(txt,attachments,recievers):\n    import paramiko\n    from paramiko import SSHClient\n    from scp import SCPClient\n    host='172.16.197.26'\n    user='xxx'\n    psec=''\n    port=22\n    folder='/scripts/jakhashr/email'\n    file_='temp.m'\n    sshclient = paramiko.SSHClient()\n    sshclient.set_missing_host_key_policy(paramiko.AutoAddPolicy())\n    sshclient.connect(hostname=host, username=user, password=psec, port=port)\n    scp = SCPClient(sshclient.get_transport())\n    scp.put(file_, folder)\n    #stdin, stdout, stderr = sshclient.exec_command('ls -l')\n    #data = stdout.read() + stderr.read()\n    #print data\n    #client.close\n    \n    \n    \n    from email.MIMEMultipart import MIMEMultipart\n    from email.MIMEText import MIMEText\n    from email.MIMEImage import MIMEImage\n    strFrom = 'from@example.com'\n    strTo = 'jakhongir.ashrapov@tele2.com'\n    \n    msgRoot = MIMEMultipart('related')\n    msgRoot['Subject'] = 'test message'\n    msgRoot['From'] = strFrom\n    msgRoot['To'] = strTo\n    msgRoot.preamble = 'This is a multi-part message in MIME format.'\n    alternative = MIMEMultipart('alternative')\n    msgRoot.attach(msgAlternative)\n    \n    msgText = MIMEText('This is the alternative plain text message.')\n    msgAlternative.attach(msgText)\n    # We reference the image in the IMG SRC attribute by the ID we give it below\n    msgText = MIMEText('<b>Some <i>HTML</i> text</b> and an image.<br><img src=\"cid:image1\"><br>Nifty!', 'html')\n    msgAlternative.attach(msgText)\n    \n    # Image file should be created already as temp.jpg\n    fp = open('temp.jpg', 'rb')\n    msgImage = MIMEImage(fp.read())\n    fp.close()\n    \n    # Define the image's ID as referenced above\n    msgImage.add_header('Content-ID', '<image1>')\n    msgRoot.attach(msgImage)\n    f=open('temp.m','w')\n    f.write(msgRoot.as_string())\n    f.close()\n\n    ",
     "language": "python",
     "metadata": {},
     "outputs": [],
     "prompt_number": 11
    },
    {
     "cell_type": "code",
     "collapsed": false,
     "input": "# this will create HTML email with detailed information\ndef reportDeviation(ci,df,deviations):\n    from string import Template\n    def readControlMeta():\n        global conLite\n        \n        \n        \n    plotfile=ci+'.jpg'\n    today=datetime.now().strftime(\"%Y-%m-%d %H:%M\")\n    df.plot(ci)\n    plt.savefig(plotfile)\n    \n    html=\"\"\"<b> $date1 </b> and an image.<br><img src=\"cid:image1\"><br>Nifty! \"\"\"\n    \n    \n\n    \n    \n    ",
     "language": "python",
     "metadata": {},
     "outputs": [],
     "prompt_number": 12
    },
    {
     "cell_type": "code",
     "collapsed": false,
     "input": "conLite=connectLite() \nconOx=connectOracle() \ncontrol_list=updateTrends()  #this is for updating all trends",
     "language": "python",
     "metadata": {},
     "outputs": [
      {
       "output_type": "stream",
       "stream": "stdout",
       "text": "SQLite version: 3.6.21\n11.2.0.2.0"
      },
      {
       "output_type": "stream",
       "stream": "stdout",
       "text": "\nhr_in_moc_d\nhr_in_gprs_v"
      },
      {
       "output_type": "stream",
       "stream": "stdout",
       "text": "\nhr_in_content_c"
      },
      {
       "output_type": "stream",
       "stream": "stdout",
       "text": "\nhr_in_sms_c"
      },
      {
       "output_type": "stream",
       "stream": "stdout",
       "text": "\nhr_in_moc_roam_d"
      },
      {
       "output_type": "stream",
       "stream": "stdout",
       "text": "\nhr_rating_voice_d"
      },
      {
       "output_type": "stream",
       "stream": "stdout",
       "text": "\nhr_rating_sms_c"
      },
      {
       "output_type": "stream",
       "stream": "stdout",
       "text": "\ndatabase is locked"
      },
      {
       "output_type": "stream",
       "stream": "stdout",
       "text": "\ndatabase is locked"
      },
      {
       "output_type": "stream",
       "stream": "stdout",
       "text": "\ndatabase is locked"
      },
      {
       "output_type": "stream",
       "stream": "stdout",
       "text": "\ndatabase is locked"
      },
      {
       "output_type": "stream",
       "stream": "stdout",
       "text": "\n"
      }
     ],
     "prompt_number": 92
    },
    {
     "cell_type": "code",
     "collapsed": false,
     "input": "# this will fit active controls with queried data, creates massive with all models and deviations and plots into graph, saves and calls\n# method to send email\nimport threading\nfor ci in control_list:\n\n    snum=ci\n    ts=readTrend(ci, conLite)\n    if len(ts)>15:\n        df=fitArima(ts)\n        #deviations=checkTrend(ci,df)\n        df.plot(title=ci)\n        #plt.savefig('temp.jpg') # currently for testing only\n        t1=threading.Thread(target=plt.show())\n        t1.start()\n        for i in deviations:\n            print i\n        df_dev.append((ci,df,deviations))\n    \n\n    \n    ",
     "language": "python",
     "metadata": {},
     "outputs": [
      {
       "ename": "NameError",
       "evalue": "name 'deviations' is not defined",
       "output_type": "pyerr",
       "traceback": [
        "\u001b[1;31m---------------------------------------------------------------------------\u001b[0m\n\u001b[1;31mNameError\u001b[0m                                 Traceback (most recent call last)",
        "\u001b[1;32m<ipython-input-15-f1f11ec8bace>\u001b[0m in \u001b[0;36m<module>\u001b[1;34m()\u001b[0m\n\u001b[0;32m     13\u001b[0m         \u001b[0mt1\u001b[0m\u001b[1;33m=\u001b[0m\u001b[0mthreading\u001b[0m\u001b[1;33m.\u001b[0m\u001b[0mThread\u001b[0m\u001b[1;33m(\u001b[0m\u001b[0mtarget\u001b[0m\u001b[1;33m=\u001b[0m\u001b[0mplt\u001b[0m\u001b[1;33m.\u001b[0m\u001b[0mshow\u001b[0m\u001b[1;33m(\u001b[0m\u001b[1;33m)\u001b[0m\u001b[1;33m)\u001b[0m\u001b[1;33m\u001b[0m\u001b[0m\n\u001b[0;32m     14\u001b[0m         \u001b[0mt1\u001b[0m\u001b[1;33m.\u001b[0m\u001b[0mstart\u001b[0m\u001b[1;33m(\u001b[0m\u001b[1;33m)\u001b[0m\u001b[1;33m\u001b[0m\u001b[0m\n\u001b[1;32m---> 15\u001b[1;33m         \u001b[1;32mfor\u001b[0m \u001b[0mi\u001b[0m \u001b[1;32min\u001b[0m \u001b[0mdeviations\u001b[0m\u001b[1;33m:\u001b[0m\u001b[1;33m\u001b[0m\u001b[0m\n\u001b[0m\u001b[0;32m     16\u001b[0m             \u001b[1;32mprint\u001b[0m \u001b[0mi\u001b[0m\u001b[1;33m\u001b[0m\u001b[0m\n\u001b[0;32m     17\u001b[0m         \u001b[0mdf_dev\u001b[0m\u001b[1;33m.\u001b[0m\u001b[0mappend\u001b[0m\u001b[1;33m(\u001b[0m\u001b[1;33m(\u001b[0m\u001b[0mci\u001b[0m\u001b[1;33m,\u001b[0m\u001b[0mdf\u001b[0m\u001b[1;33m,\u001b[0m\u001b[0mdeviations\u001b[0m\u001b[1;33m)\u001b[0m\u001b[1;33m)\u001b[0m\u001b[1;33m\u001b[0m\u001b[0m\n",
        "\u001b[1;31mNameError\u001b[0m: name 'deviations' is not defined"
       ]
      },
      {
       "output_type": "stream",
       "stream": "stderr",
       "text": "C:\\Python27\\lib\\site-packages\\pandas-0.15.2-py2.7-win32.egg\\pandas\\core\\frame.py:3083: FutureWarning: TimeSeries broadcasting along DataFrame index by default is deprecated. Please use DataFrame.<op> to explicitly broadcast arithmetic operations along the index\n  FutureWarning)\n"
      }
     ],
     "prompt_number": 15
    },
    {
     "cell_type": "code",
     "collapsed": false,
     "input": "## this is for my comp\nconLite=connectLite() \ncontrol_list=list()\nwith conLite:\n    curLite = conLite.cursor()\n    curLite.execute('select contr_id, script from controls where active_flag=1')\n    cs_list=[(i[0],i[1]) for i in curLite.fetchall()]\n    for ci,si in cs_list:\n        print ci\n        control_list.append(ci)",
     "language": "python",
     "metadata": {},
     "outputs": [
      {
       "output_type": "stream",
       "stream": "stdout",
       "text": "SQLite version: 3.6.21\nhr_in_moc_c\nhr_in_gprs_c\nhr_in_content_c\nhr_in_sms_c\nhr_in_moc_roam_c\n"
      }
     ],
     "prompt_number": 17
    },
    {
     "cell_type": "code",
     "collapsed": false,
     "input": "for ci in control_list:\n    snum=ci\n    ts=readTrend(ci, conLite)\n    if len(ts)>15:\n        df=fitArima(ts)\n        #deviations=checkTrend(ci,df)\n        df.plot(title=ci)\n        #plt.savefig('temp.jpg') # currently for testing only\n        t1=threading.Thread(target=plt.show())\n        t1.start()\n",
     "language": "python",
     "metadata": {},
     "outputs": [],
     "prompt_number": 18
    },
    {
     "cell_type": "code",
     "collapsed": false,
     "input": "",
     "language": "python",
     "metadata": {},
     "outputs": []
    },
    {
     "cell_type": "code",
     "collapsed": false,
     "input": "",
     "language": "python",
     "metadata": {},
     "outputs": [],
     "prompt_number": 2
    },
    {
     "cell_type": "code",
     "collapsed": false,
     "input": "#correct_record(df.loc['2015-02-23']) # example of manual fixing deviations given data",
     "language": "python",
     "metadata": {},
     "outputs": [],
     "prompt_number": 33
    },
    {
     "cell_type": "code",
     "collapsed": false,
     "input": "",
     "language": "python",
     "metadata": {},
     "outputs": [],
     "prompt_number": 11
    },
    {
     "cell_type": "code",
     "collapsed": false,
     "input": "",
     "language": "python",
     "metadata": {},
     "outputs": [],
     "prompt_number": 11
    },
    {
     "cell_type": "code",
     "collapsed": false,
     "input": "",
     "language": "python",
     "metadata": {},
     "outputs": [],
     "prompt_number": 89
    },
    {
     "cell_type": "code",
     "collapsed": false,
     "input": "",
     "language": "python",
     "metadata": {},
     "outputs": [],
     "prompt_number": 81
    },
    {
     "cell_type": "code",
     "collapsed": false,
     "input": "",
     "language": "python",
     "metadata": {},
     "outputs": [],
     "prompt_number": 89
    },
    {
     "cell_type": "code",
     "collapsed": false,
     "input": "df.plot()\na=plt.savefig(ci+'.jpg')",
     "language": "python",
     "metadata": {},
     "outputs": [],
     "prompt_number": 104
    },
    {
     "cell_type": "code",
     "collapsed": false,
     "input": "",
     "language": "python",
     "metadata": {},
     "outputs": [],
     "prompt_number": 105
    },
    {
     "cell_type": "code",
     "collapsed": false,
     "input": "",
     "language": "python",
     "metadata": {},
     "outputs": [],
     "prompt_number": 11
    },
    {
     "cell_type": "code",
     "collapsed": false,
     "input": "",
     "language": "python",
     "metadata": {},
     "outputs": [],
     "prompt_number": 102
    },
    {
     "cell_type": "code",
     "collapsed": false,
     "input": "",
     "language": "python",
     "metadata": {},
     "outputs": []
    }
   ],
   "metadata": {}
  }
 ]
}